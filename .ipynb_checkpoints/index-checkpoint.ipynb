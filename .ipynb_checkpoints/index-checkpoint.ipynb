{
 "cells": [
  {
   "cell_type": "markdown",
   "metadata": {},
   "source": [
    "# Repository Overview\n",
    "\n",
    "In this repository you will find 3 notebooks, one for each of the midterm dataset options. While your model tuning is apt to differ (maybe even be better) use these as a general guidelines and ideas in data exploration, feature engineering, and model tuning. Key highlights and notes are included throughout. In general, remember that your process should generally include the following: \n",
    "\n",
    "* Define X and y\n",
    "    * y should be a continuous numeric variable\n",
    "    * X should be a number of numeric features\n",
    "        *X features may need substantial preproccesing including:\n",
    "            * Transforming datetime values\n",
    "            * Normalizing features ranges/distributions\n",
    "            * Creating dummy variables\n",
    "            * Ensuring there are no categorical variables coded (misleadingly) as numbers\n",
    "* Train / Test Split\n",
    "* Fit algorithm on training data\n",
    "    * Cross Validation\n",
    "    * Feature Engineering\n",
    "        * Synthetic Polynomial Features / Polynomial Regression\n",
    "* Evaluate Model Performance on Test Set\n",
    "    * Repeat process with seperate train/test split; do results hold?\n",
    "* Continue feature engineering, tuning, etc.\n",
    "\n",
    "Cheers!"
   ]
  }
 ],
 "metadata": {
  "kernelspec": {
   "display_name": "Python 3",
   "language": "python",
   "name": "python3"
  },
  "language_info": {
   "codemirror_mode": {
    "name": "ipython",
    "version": 3
   },
   "file_extension": ".py",
   "mimetype": "text/x-python",
   "name": "python",
   "nbconvert_exporter": "python",
   "pygments_lexer": "ipython3",
   "version": "3.6.6"
  }
 },
 "nbformat": 4,
 "nbformat_minor": 2
}
